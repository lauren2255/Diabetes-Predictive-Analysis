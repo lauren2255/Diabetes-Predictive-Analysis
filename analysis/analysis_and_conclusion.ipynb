{
 "cells": [
  {
   "cell_type": "markdown",
   "metadata": {},
   "source": [
    "## Research Questions and Answers \n",
    "\n",
    "### Based on preliminary research, we believe that HbA1c levels are a better predictive variable than blood glucose, does this show itself in our data?  \n",
    "\n",
    "The HbA1c level indicative of pre-diabetes typically ranges between 5.7% and 6.4%. Upon examination of our dataset, it was noted that a substantial proportion of individuals diagnosed with diabetes exhibit HbA1c levels falling within the range of 6% to 7%. Conversely, HbA1c levels falling between 5.7% and 6.4% are regarded as indicative of pre-diabetes. \n",
    "\n",
    "Blood glucose levels, measured through various methodologies,demonstrate a predominant distribution within the range of 125 to 165 in our dataset. It's imperative to acknowledge that the diagnostic thresholds for blood glucose vary based on specific clinical circumstances. However, our data analysis underscores a more comprehensive understanding of HbA1c levels, thereby facilitating a more precise assessment based on these metrics. \n",
    "\n",
    "### How highly correlated is BMI to both HbA1c and blood glucose levels and thus, how predictive is it of a positive diabetes diagnosis.  \n",
    "\n",
    "An observed positive correlation exists between body mass index (BMI) and both HbA1c and blood glucose levels, underscoring BMI's significance as a predictive marker in the context of diagnosing diabetes. Nonetheless, it is essential to acknowledge that the predictive landscape of diabetes diagnosis encompasses multifaceted factors beyond BMI alone. \n",
    "\n",
    "While BMI serves as a valuable predictor, its utility is complemented by other influential variables such as age, presence of heart disease, smoking history, and gender. These additional factors contribute substantively to the predictive model, reflecting the intricate interplay of various clinical parameters in determining the likelihood of a positive diabetes diagnosis. \n",
    "\n",
    "In summary, while BMI holds predictive value, the comprehensive assessment of diabetes risk necessitates consideration of a broader array of clinical factors, emphasizing the need for a holistic approach to diagnostic evaluation. \n",
    "\n",
    "### At what ages do we note the highest rates of diabetes? \n",
    "\n",
    "The dataset demonstrates a significant association between elevated HbA1c and blood glucose levels with increased age, with individuals aged 45-80 exhibiting the highest risk of diabetes compared to other age groups. "
   ]
  },
  {
   "cell_type": "markdown",
   "metadata": {},
   "source": [
    "## Conclusion\n",
    "\n",
    "Many of our preliminary thoughts and or conclusions were born out by the data. We thought that increased HBA1-C levels would be highly related to a diabetes diagnosis. We also believed that higher blood glucose levels would often be indicative of diabetes. Furthermore, we had a strong suspicion that higher BMI’s, particularly those moving into notably unhealthy ranges would be highly related and even potentially predictive of a diabetes diagnosis. This suspicion was brought about by the mean BMI of diabetes patients in the US ~ 32, a very high BMI, one indicative of obesity. Also, ~ 90-95% of diabetes cases in the United States are deemed type II. Type II is the non-hereditary, lifestyle-based diagnosis of this disease. Our research showed that ~19.7% of those with a BMI over 32 also had a diabetes diagnosis, while those with BMI between 18 and 25(deemed healthy range) only showed diabetes at a rate of ~3.8%. This startling discovery was then corroborated by a two-sample t- test that compared the mean blood glucose levels of those with BMI over 32 with those of BMI between 18 and 25 and we had a shockingly low p-value =1. 39.. e-127, and thus we had to conclude that BMI was a major potentially predictive factor in whether a patient had diabetes. Moreover, age had a resounding correlation with a diabetes diagnosis. This could be a compounding of factors as other medical conditions compile with age and the older populous may be more prone to higher a BMI, because of unhealthy eating over a longer period. Nonetheless, as our patients went up age they were diagnosed at a much higher rate relative to the sample of the given age group.  "
   ]
  }
 ],
 "metadata": {
  "language_info": {
   "name": "python"
  }
 },
 "nbformat": 4,
 "nbformat_minor": 2
}
